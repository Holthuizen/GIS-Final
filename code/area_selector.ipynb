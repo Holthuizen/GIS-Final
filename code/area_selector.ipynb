{
 "cells": [
  {
   "cell_type": "markdown",
   "metadata": {},
   "source": [
    "### File for adding new areas to the areas of interest dict. "
   ]
  },
  {
   "cell_type": "code",
   "execution_count": 1,
   "metadata": {},
   "outputs": [],
   "source": [
    "import os\n",
    "import ee\n",
    "import pickle\n",
    "import geemap\n",
    "import geemap.colormaps as cm\n",
    "\n",
    "# ee.Authenticate()"
   ]
  },
  {
   "cell_type": "code",
   "execution_count": null,
   "metadata": {},
   "outputs": [],
   "source": [
    "try:\n",
    "    # Initialize the library.\n",
    "    ee.Initialize()\n",
    "    print('Google Earth Engine has initialized successfully!')\n",
    "except ee.EEException as e:\n",
    "    print('Google Earth Engine has failed to initialize!')\n",
    "except:\n",
    "    print(\"Unexpected error:\", sys.exc_info()[0])\n",
    "    raise"
   ]
  },
  {
   "cell_type": "code",
   "execution_count": 2,
   "metadata": {},
   "outputs": [
    {
     "data": {
      "text/html": [
       "\n",
       "            <style>\n",
       "                .geemap-dark {\n",
       "                    --jp-widgets-color: white;\n",
       "                    --jp-widgets-label-color: white;\n",
       "                    --jp-ui-font-color1: white;\n",
       "                    --jp-layout-color2: #454545;\n",
       "                    background-color: #383838;\n",
       "                }\n",
       "                    \n",
       "                .geemap-dark .jupyter-button {\n",
       "                    --jp-layout-color3: #383838;\n",
       "                }\n",
       "                \n",
       "                .geemap-colab {\n",
       "                    background-color: var(--colab-primary-surface-color, white);\n",
       "                }\n",
       "                    \n",
       "                .geemap-colab .jupyter-button {\n",
       "                    --jp-layout-color3: var(--colab-primary-surface-color, white);\n",
       "                }\n",
       "            </style>\n",
       "            "
      ],
      "text/plain": [
       "<IPython.core.display.HTML object>"
      ]
     },
     "metadata": {},
     "output_type": "display_data"
    },
    {
     "name": "stdout",
     "output_type": "stream",
     "text": [
      "Loaded areas of interest from pickle file.\n"
     ]
    }
   ],
   "source": [
    "# File name where the dictionary is stored\n",
    "pickle_file = '../data/areas_of_interest.pickle'\n",
    "\n",
    "# Initialize the areas_of_interest dictionary\n",
    "if os.path.exists(pickle_file):\n",
    "    # If the pickle file exists, load the dictionary from the file\n",
    "    with open(pickle_file, 'rb') as handle:\n",
    "        areas_of_interest = pickle.load(handle)\n",
    "    print(\"Loaded areas of interest from pickle file.\")\n",
    "else:\n",
    "    # If the pickle file does not exist, initialize an empty dictionary\n",
    "    areas_of_interest = {}\n",
    "    print(\"Initialized an empty dictionary for areas of interest.\")"
   ]
  },
  {
   "cell_type": "code",
   "execution_count": null,
   "metadata": {},
   "outputs": [],
   "source": [
    "Map = geemap.Map()\n",
    "Map"
   ]
  },
  {
   "cell_type": "code",
   "execution_count": null,
   "metadata": {},
   "outputs": [],
   "source": [
    "if Map.draw_last_feature is None:\n",
    "    print(\"No new feature drawn. Nothing to retrieve.\")\n",
    "else:\n",
    "    # Code for selecting the area\n",
    "    fc = ee.FeatureCollection(Map.draw_last_feature)\n",
    "    region = fc.geometry()\n",
    "    coords = region.getInfo()['coordinates']\n",
    "    area_name = input(\"Enter a name for this area: \")\n",
    "\n",
    "    # Check if the area name already exists in the dictionary\n",
    "    if area_name in areas_of_interest:\n",
    "        print(f\"The area name '{area_name}' already exists. Please choose a different name.\")\n",
    "    else:\n",
    "        # Save the coordinates with area_name as ID\n",
    "        areas_of_interest[area_name] = coords\n",
    "        print(f\"Area '{area_name}' saved successfully.\")\n",
    "\n",
    "        # Pickling the updated dictionary\n",
    "        with open('areas_of_interest.pickle', 'wb') as handle:\n",
    "            pickle.dump(areas_of_interest, handle, protocol=pickle.HIGHEST_PROTOCOL)\n",
    "        print(\"Areas of interest have been pickled and saved.\")"
   ]
  },
  {
   "cell_type": "code",
   "execution_count": null,
   "metadata": {},
   "outputs": [],
   "source": [
    "for name, coordinates in areas_of_interest.items():\n",
    "    print(f\"Area: {name}, Coordinates: {coordinates}\")"
   ]
  }
 ],
 "metadata": {
  "kernelspec": {
   "display_name": ".venv",
   "language": "python",
   "name": "python3"
  },
  "language_info": {
   "codemirror_mode": {
    "name": "ipython",
    "version": 3
   },
   "file_extension": ".py",
   "mimetype": "text/x-python",
   "name": "python",
   "nbconvert_exporter": "python",
   "pygments_lexer": "ipython3",
   "version": "3.11.0"
  }
 },
 "nbformat": 4,
 "nbformat_minor": 2
}
